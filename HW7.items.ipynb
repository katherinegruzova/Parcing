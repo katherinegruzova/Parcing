{
 "cells": [
  {
   "cell_type": "code",
   "execution_count": 3,
   "id": "cf2fa3d8",
   "metadata": {},
   "outputs": [],
   "source": [
    "import scrapy\n",
    "from itemloaders.processors import MapCompose, TakeFirst\n",
    "\n",
    "\n",
    "def process_price(price):\n",
    "    clean_price = price.replace(' ', '')\n",
    "    try:\n",
    "        clean_price = int(clean_price)\n",
    "        return clean_price\n",
    "    except:\n",
    "        return clean_price\n",
    "\n",
    "\n",
    "def process_char(val):\n",
    "    return val.replace('\\n            ', '').replace('    ', '')\n",
    "\n",
    "\n",
    "class GoodparserItem(scrapy.Item):\n",
    "    # define the fields for your item here like:\n",
    "    name = scrapy.Field(output_processor=TakeFirst())\n",
    "    photos = scrapy.Field()\n",
    "    link = scrapy.Field(output_processor=TakeFirst())\n",
    "    price = scrapy.Field(input_processor=MapCompose(process_price), output_processor=TakeFirst())\n",
    "    ch_key = scrapy.Field()\n",
    "    ch_value = scrapy.Field(input_processor=MapCompose(process_char))\n",
    "    characteristics = scrapy.Field()\n",
    "    _id = scrapy.Field()"
   ]
  }
 ],
 "metadata": {
  "kernelspec": {
   "display_name": "Python 3 (ipykernel)",
   "language": "python",
   "name": "python3"
  },
  "language_info": {
   "codemirror_mode": {
    "name": "ipython",
    "version": 3
   },
   "file_extension": ".py",
   "mimetype": "text/x-python",
   "name": "python",
   "nbconvert_exporter": "python",
   "pygments_lexer": "ipython3",
   "version": "3.9.12"
  }
 },
 "nbformat": 4,
 "nbformat_minor": 5
}
