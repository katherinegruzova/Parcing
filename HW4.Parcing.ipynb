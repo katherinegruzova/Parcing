{
 "cells": [
  {
   "cell_type": "markdown",
   "id": "384b3f24",
   "metadata": {},
   "source": [
    "Урок 4. Система управления базами данных MongoDB в Python\n",
    "1. Развернуть у себя на компьютере/виртуальной машине/хостинге MongoDB и реализовать функцию, которая будет добавлять только новые вакансии/продукты в вашу базу."
   ]
  },
  {
   "cell_type": "code",
   "execution_count": 100,
   "id": "c31c8072",
   "metadata": {},
   "outputs": [],
   "source": [
    "import requests\n",
    "from bs4 import BeautifulSoup as bs\n",
    "from pprint import pprint\n",
    "from time import sleep"
   ]
  },
  {
   "cell_type": "code",
   "execution_count": 106,
   "id": "59b6a80d",
   "metadata": {},
   "outputs": [],
   "source": [
    "URL_HH = 'https://spb.hh.ru/search/vacancy'"
   ]
  },
  {
   "cell_type": "code",
   "execution_count": 107,
   "id": "06598c48",
   "metadata": {},
   "outputs": [],
   "source": [
    "HEADER = {'User-Agent': 'Mozilla/5.0 (Windows NT 10.0; WOW64) AppleWebKit/537.36 (KHTML, like Gecko) Chrome/109.0.0.0 Safari/537.36'}"
   ]
  },
  {
   "cell_type": "code",
   "execution_count": 108,
   "id": "030fe465",
   "metadata": {},
   "outputs": [],
   "source": [
    "def get_html(url, params=''):\n",
    "    response = requests.get(url, headers = HEADER, params = params)\n",
    "    \n",
    "    return response\n",
    "\n",
    "response = get_html(URL_HH, params={'text': 'Разработчик Python', 'page': 0})"
   ]
  },
  {
   "cell_type": "code",
   "execution_count": 109,
   "id": "8ef03864",
   "metadata": {},
   "outputs": [
    {
     "data": {
      "text/plain": [
       "[{'title': 'Go разработчик со знаниями Python',\n",
       "  'link': 'https://spb.hh.ru/vacancy/77799276?from=vacancy_search_list&query=%D0%A0%D0%B0%D0%B7%D1%80%D0%B0%D0%B1%D0%BE%D1%82%D1%87%D0%B8%D0%BA+Python',\n",
       "  'city': 'Алматы',\n",
       "  'company': 'ТОО\\xa0Freedom Drive',\n",
       "  'salary': 'до 1\\u202f000\\u202f000 KZT',\n",
       "  'site': 'HeadHunter'},\n",
       " {'title': 'Team Lead Python backend (удаленно)',\n",
       "  'link': 'https://spb.hh.ru/vacancy/77690655?from=vacancy_search_list&query=%D0%A0%D0%B0%D0%B7%D1%80%D0%B0%D0%B1%D0%BE%D1%82%D1%87%D0%B8%D0%BA+Python',\n",
       "  'city': 'Москва',\n",
       "  'company': 'Франчайзинговая розничная сеть Галамарт',\n",
       "  'salary': 'от 300\\u202f000 руб.',\n",
       "  'site': 'HeadHunter'},\n",
       " {'title': 'Разработчик курсов IT и ИБ',\n",
       "  'link': 'https://spb.hh.ru/vacancy/77713311?from=vacancy_search_list&query=%D0%A0%D0%B0%D0%B7%D1%80%D0%B0%D0%B1%D0%BE%D1%82%D1%87%D0%B8%D0%BA+Python',\n",
       "  'city': 'Москва',\n",
       "  'company': 'ООО\\xa0Кодебай',\n",
       "  'salary': 'от 300\\u202f000 руб.',\n",
       "  'site': 'HeadHunter'},\n",
       " {'title': 'Преподаватель Python для детей',\n",
       "  'link': 'https://spb.hh.ru/vacancy/77718733?from=vacancy_search_list&query=%D0%A0%D0%B0%D0%B7%D1%80%D0%B0%D0%B1%D0%BE%D1%82%D1%87%D0%B8%D0%BA+Python',\n",
       "  'city': 'Астана',\n",
       "  'company': 'ИП\\xa0Academica',\n",
       "  'salary': '200\\u202f000 – 500\\u202f000 KZT',\n",
       "  'site': 'HeadHunter'},\n",
       " {'title': 'Senior Python разработчик (бэк, удаленно)',\n",
       "  'link': 'https://spb.hh.ru/vacancy/77652004?from=vacancy_search_list&query=%D0%A0%D0%B0%D0%B7%D1%80%D0%B0%D0%B1%D0%BE%D1%82%D1%87%D0%B8%D0%BA+Python',\n",
       "  'city': 'Москва',\n",
       "  'company': 'Франчайзинговая розничная сеть Галамарт',\n",
       "  'salary': 'от 250\\u202f000 руб.',\n",
       "  'site': 'HeadHunter'},\n",
       " {'title': 'Python-разработчик в Цифровые поверхности Салют (Сценарная разработка)',\n",
       "  'link': 'https://spb.hh.ru/vacancy/75888105?from=vacancy_search_list&query=%D0%A0%D0%B0%D0%B7%D1%80%D0%B0%D0%B1%D0%BE%D1%82%D1%87%D0%B8%D0%BA+Python',\n",
       "  'city': 'Москва',\n",
       "  'company': 'Сбер. IT',\n",
       "  'salary': '',\n",
       "  'site': 'HeadHunter'},\n",
       " {'title': 'Разработчик Kubernetes',\n",
       "  'link': 'https://spb.hh.ru/vacancy/72684065?from=vacancy_search_list&query=%D0%A0%D0%B0%D0%B7%D1%80%D0%B0%D0%B1%D0%BE%D1%82%D1%87%D0%B8%D0%BA+Python',\n",
       "  'city': 'Москва',\n",
       "  'company': 'Сбер. IT',\n",
       "  'salary': '',\n",
       "  'site': 'HeadHunter'},\n",
       " {'title': 'Team Lead',\n",
       "  'link': 'https://spb.hh.ru/vacancy/77685084?from=vacancy_search_list&query=%D0%A0%D0%B0%D0%B7%D1%80%D0%B0%D0%B1%D0%BE%D1%82%D1%87%D0%B8%D0%BA+Python',\n",
       "  'city': 'Москва',\n",
       "  'company': 'Александр Воропаев',\n",
       "  'salary': '300\\u202f000 – 500\\u202f000 руб.',\n",
       "  'site': 'HeadHunter'},\n",
       " {'title': 'Middle Python Developer / Django Developer',\n",
       "  'link': 'https://spb.hh.ru/vacancy/77490340?from=vacancy_search_list&query=%D0%A0%D0%B0%D0%B7%D1%80%D0%B0%D0%B1%D0%BE%D1%82%D1%87%D0%B8%D0%BA+Python',\n",
       "  'city': 'Минск',\n",
       "  'company': 'ЗАО\\xa0Водород',\n",
       "  'salary': '',\n",
       "  'site': 'HeadHunter'},\n",
       " {'title': 'Python разработчик',\n",
       "  'link': 'https://spb.hh.ru/vacancy/77723429?from=vacancy_search_list&query=%D0%A0%D0%B0%D0%B7%D1%80%D0%B0%D0%B1%D0%BE%D1%82%D1%87%D0%B8%D0%BA+Python',\n",
       "  'city': 'Калининград',\n",
       "  'company': 'ИП\\xa0Чабурко Александр Сергеевич',\n",
       "  'salary': '100\\u202f000 – 150\\u202f000 руб.',\n",
       "  'site': 'HeadHunter'},\n",
       " {'title': 'Разработчик Python',\n",
       "  'link': 'https://spb.hh.ru/vacancy/77091466?from=vacancy_search_list&query=%D0%A0%D0%B0%D0%B7%D1%80%D0%B0%D0%B1%D0%BE%D1%82%D1%87%D0%B8%D0%BA+Python',\n",
       "  'city': 'Санкт-Петербург',\n",
       "  'company': 'ООО\\xa0Нетопия',\n",
       "  'salary': '200\\u202f000 – 250\\u202f000 руб.',\n",
       "  'site': 'HeadHunter'},\n",
       " {'title': 'Python разработчик',\n",
       "  'link': 'https://spb.hh.ru/vacancy/77650733?from=vacancy_search_list&query=%D0%A0%D0%B0%D0%B7%D1%80%D0%B0%D0%B1%D0%BE%D1%82%D1%87%D0%B8%D0%BA+Python',\n",
       "  'city': 'Набережные Челны',\n",
       "  'company': 'ООО\\xa0АТРАКС ТРЕЙД',\n",
       "  'salary': '100\\u202f000 – 200\\u202f000 руб.',\n",
       "  'site': 'HeadHunter'},\n",
       " {'title': 'Python Backend Developer / WEB - разработчик',\n",
       "  'link': 'https://spb.hh.ru/vacancy/72216524?from=vacancy_search_list&query=%D0%A0%D0%B0%D0%B7%D1%80%D0%B0%D0%B1%D0%BE%D1%82%D1%87%D0%B8%D0%BA+Python',\n",
       "  'city': 'Москва',\n",
       "  'company': 'ООО\\xa0Перфект Системс',\n",
       "  'salary': '300\\u202f000 – 450\\u202f000 руб.',\n",
       "  'site': 'HeadHunter'},\n",
       " {'title': 'Python разработчик',\n",
       "  'link': 'https://spb.hh.ru/vacancy/77716464?from=vacancy_search_list&query=%D0%A0%D0%B0%D0%B7%D1%80%D0%B0%D0%B1%D0%BE%D1%82%D1%87%D0%B8%D0%BA+Python',\n",
       "  'city': 'Москва',\n",
       "  'company': 'WorkinGeeks',\n",
       "  'salary': 'от 180\\u202f000 руб.',\n",
       "  'site': 'HeadHunter'},\n",
       " {'title': 'Программист Python',\n",
       "  'link': 'https://spb.hh.ru/vacancy/77800943?from=vacancy_search_list&query=%D0%A0%D0%B0%D0%B7%D1%80%D0%B0%D0%B1%D0%BE%D1%82%D1%87%D0%B8%D0%BA+Python',\n",
       "  'city': 'Астана',\n",
       "  'company': 'АО\\xa0Центр электронных финансов',\n",
       "  'salary': 'до 1\\u202f100\\u202f000 KZT',\n",
       "  'site': 'HeadHunter'},\n",
       " {'title': 'Python-разработчик (Junior)',\n",
       "  'link': 'https://spb.hh.ru/vacancy/77764866?from=vacancy_search_list&query=%D0%A0%D0%B0%D0%B7%D1%80%D0%B0%D0%B1%D0%BE%D1%82%D1%87%D0%B8%D0%BA+Python',\n",
       "  'city': 'Москва',\n",
       "  'company': 'ИП\\xa0Щербин Алексей Сергеевич',\n",
       "  'salary': '40\\u202f000 – 60\\u202f000 руб.',\n",
       "  'site': 'HeadHunter'},\n",
       " {'title': 'Программист Python Junior',\n",
       "  'link': 'https://spb.hh.ru/vacancy/77146976?from=vacancy_search_list&query=%D0%A0%D0%B0%D0%B7%D1%80%D0%B0%D0%B1%D0%BE%D1%82%D1%87%D0%B8%D0%BA+Python',\n",
       "  'city': 'Екатеринбург',\n",
       "  'company': 'BRANDPOL',\n",
       "  'salary': '',\n",
       "  'site': 'HeadHunter'},\n",
       " {'title': 'Python Developer, New Zealand',\n",
       "  'link': 'https://spb.hh.ru/vacancy/77658597?from=vacancy_search_list&query=%D0%A0%D0%B0%D0%B7%D1%80%D0%B0%D0%B1%D0%BE%D1%82%D1%87%D0%B8%D0%BA+Python',\n",
       "  'city': 'Москва',\n",
       "  'company': 'ГК ВИЗАВИ Консалт',\n",
       "  'salary': '5\\u202f000 – 7\\u202f500 USD',\n",
       "  'site': 'HeadHunter'},\n",
       " {'title': 'Python-разработчик (Django, DRF)',\n",
       "  'link': 'https://spb.hh.ru/vacancy/70705466?from=vacancy_search_list&query=%D0%A0%D0%B0%D0%B7%D1%80%D0%B0%D0%B1%D0%BE%D1%82%D1%87%D0%B8%D0%BA+Python',\n",
       "  'city': 'Москва',\n",
       "  'company': 'ООО\\xa0Фабрика Решений',\n",
       "  'salary': '60\\u202f000 – 220\\u202f000 руб.',\n",
       "  'site': 'HeadHunter'},\n",
       " {'title': 'Python-разработчик (удаленно/Сербия)',\n",
       "  'link': 'https://spb.hh.ru/vacancy/77804916?from=vacancy_search_list&query=%D0%A0%D0%B0%D0%B7%D1%80%D0%B0%D0%B1%D0%BE%D1%82%D1%87%D0%B8%D0%BA+Python',\n",
       "  'city': 'Москва',\n",
       "  'company': 'getmatch',\n",
       "  'salary': 'до 450\\u202f000 руб.',\n",
       "  'site': 'HeadHunter'}]"
      ]
     },
     "execution_count": 109,
     "metadata": {},
     "output_type": "execute_result"
    }
   ],
   "source": [
    "def get_hh_content(response):\n",
    "    soup = bs(response.text, 'html.parser')\n",
    "    items = soup.find_all('div', {'class': 'serp-item'})\n",
    "    \n",
    "    vacancy = []\n",
    "    for item in items:\n",
    "        title = item.find('a', {'class': 'serp-item__title'}).get_text()\n",
    "        link = item.find('a', {'class': 'serp-item__title'})['href']\n",
    "        city = item.find('div', {'data-qa': 'vacancy-serp__vacancy-address'}).contents[0].strip(', ')\n",
    "        company = item.find('a', {'class': 'bloko-link_kind-tertiary'}).get_text()\n",
    "        try:\n",
    "            salary = item.find('span', {'data-qa': 'vacancy-serp__vacancy-compensation'}).get_text()\n",
    "        except:\n",
    "            salary = ''\n",
    "\n",
    "        vacancy.append(\n",
    "            {'title': title,\n",
    "             'link': link,\n",
    "             'city': city,\n",
    "             'company': company,\n",
    "             'salary': salary,\n",
    "             'site': 'HeadHunter'})\n",
    "        \n",
    "    return vacancy\n",
    "\n",
    "get_hh_content(response)"
   ]
  },
  {
   "cell_type": "code",
   "execution_count": 110,
   "id": "66f1b600",
   "metadata": {},
   "outputs": [],
   "source": [
    "def edit_data_hh(vacancy):\n",
    "    for vac in vacancy:\n",
    "        # Del \\xa0\n",
    "        vac['company'] = vac['company'].replace(u'\\xa0', u' ')\n",
    "        vac['salary'] = vac['salary'].replace(u'\\u202f', u'')\n",
    "\n",
    "        # Salary (min, max, currency)\n",
    "        if vac['salary']:\n",
    "            salary_list = vac['salary'].split(' ')\n",
    "            if salary_list[0] == 'от':\n",
    "                vac['salary_min'] = float(salary_list[1])\n",
    "                vac['salary_max'] = None\n",
    "            elif salary_list[0] == 'до':\n",
    "                vac['salary_min'] = None\n",
    "                vac['salary_max'] = float(salary_list[1])\n",
    "            else:\n",
    "                vac['salary_min'] = float(salary_list[0])\n",
    "                vac['salary_max'] = float(salary_list[2])\n",
    "            vac['salary_currency'] = salary_list[-1]\n",
    "        else:\n",
    "            vac['salary_min'] = None\n",
    "            vac['salary_max'] = None\n",
    "            vac['salary_currency'] = None\n",
    "        vac.pop('salary')\n",
    "\n",
    "        # Id\n",
    "        id = vac['link'].split(sep='/')[4].split(sep='?')[0]\n",
    "        vac['_Id'] = id\n",
    "    \n",
    "    return vacancy"
   ]
  },
  {
   "cell_type": "code",
   "execution_count": null,
   "id": "cc061be5",
   "metadata": {},
   "outputs": [],
   "source": [
    "def parser_hh():\n",
    "    post = str(input('Введите название вакансий для парсинга: '))\n",
    "    pages = int(input('Введите количество страниц для парсинга: '))\n",
    "    \n",
    "    result = []\n",
    "    for i in range(pages):\n",
    "        print(f'Парсится hh, страница: {i + 1}')\n",
    "        response = get_html(URL_HH, params = {'text': post, 'page': i})\n",
    "        vacancy = get_hh_content(response)\n",
    "        vacancy_edit = edit_data_hh(vacancy)\n",
    "        if response.ok and vacancy:\n",
    "            result.extend(vacancy_edit)\n",
    "        else:\n",
    "            break\n",
    "\n",
    "    return result\n",
    "\n",
    "result = parser_hh()"
   ]
  },
  {
   "cell_type": "code",
   "execution_count": 92,
   "id": "8feb6845",
   "metadata": {},
   "outputs": [],
   "source": [
    "import pymongo\n",
    "from pymongo import MongoClient\n",
    "import pymongo.errors"
   ]
  },
  {
   "cell_type": "code",
   "execution_count": 93,
   "id": "27f79f3e",
   "metadata": {},
   "outputs": [
    {
     "data": {
      "text/plain": [
       "MongoClient(host=['localhost:27017'], document_class=dict, tz_aware=False, connect=True)"
      ]
     },
     "execution_count": 93,
     "metadata": {},
     "output_type": "execute_result"
    }
   ],
   "source": [
    "client = MongoClient('mongodb://localhost:27017/')\n",
    "client"
   ]
  },
  {
   "cell_type": "code",
   "execution_count": 94,
   "id": "317bcb88",
   "metadata": {},
   "outputs": [
    {
     "data": {
      "text/plain": [
       "Database(MongoClient(host=['localhost:27017'], document_class=dict, tz_aware=False, connect=True), 'headhunter')"
      ]
     },
     "execution_count": 94,
     "metadata": {},
     "output_type": "execute_result"
    }
   ],
   "source": [
    "db = client.headhunter\n",
    "db"
   ]
  },
  {
   "cell_type": "code",
   "execution_count": 95,
   "id": "aad6ea67",
   "metadata": {},
   "outputs": [
    {
     "data": {
      "text/plain": [
       "Collection(Database(MongoClient(host=['localhost:27017'], document_class=dict, tz_aware=False, connect=True), 'headhunter'), 'vacancies')"
      ]
     },
     "execution_count": 95,
     "metadata": {},
     "output_type": "execute_result"
    }
   ],
   "source": [
    "vacancies = db.vacancies\n",
    "vacancies"
   ]
  },
  {
   "cell_type": "code",
   "execution_count": null,
   "id": "57ef7b81",
   "metadata": {},
   "outputs": [],
   "source": [
    "def insert_mongo(result):\n",
    "    for vac in result:\n",
    "        try:\n",
    "            vacancies.update_one({'_Id': vac['_Id']}, {'$set': vac}, upsert = True)\n",
    "        except idoc:\n",
    "            print(f'Error {idoc}')\n",
    "            continue\n",
    "\n",
    "insert_mongo(result)"
   ]
  },
  {
   "cell_type": "code",
   "execution_count": null,
   "id": "d13b8047",
   "metadata": {},
   "outputs": [],
   "source": [
    "cursor = vacancies.find()\n",
    "\n",
    "for record in cursor:\n",
    "    pprint(record)"
   ]
  },
  {
   "cell_type": "code",
   "execution_count": null,
   "id": "64898d9e",
   "metadata": {},
   "outputs": [],
   "source": [
    "cursor = len(list(vacancies.find()))\n",
    "print('Количество документов в коллекции:', cursor)"
   ]
  },
  {
   "cell_type": "markdown",
   "id": "57961134",
   "metadata": {},
   "source": [
    "2. Написать функцию, которая производит поиск и выводит на экран вакансии с заработной платой больше введённой суммы (необходимо анализировать оба поля зарплаты). Для тех, кто выполнил задание с Росконтролем - напишите запрос для поиска продуктов с рейтингом не ниже введенного или качеством не ниже введенного (то есть цифра вводится одна, а запрос проверяет оба поля)."
   ]
  },
  {
   "cell_type": "code",
   "execution_count": null,
   "id": "ed794060",
   "metadata": {},
   "outputs": [],
   "source": [
    "def search_by_salary():\n",
    "    value = int(input('Введите максимальное значение заработной платы: '))   \n",
    "    res = vacancies.find({'$or': [{'salary_currency': 'руб.',\n",
    "                                   '$or': [{'salary_min': {'$gt': value}},\n",
    "                                           {'salary_max': {'$gt': value}},\n",
    "                                          ]},\n",
    "                                  {'salary_currency': 'USD',\n",
    "                                   '$or': [{'salary_min': {'$gt': value / 75}},\n",
    "                                           {'salary_max': {'$gt': value / 75}},\n",
    "                                          ]\n",
    "                                 }]\n",
    "                        })\n",
    "    \n",
    "    return (list(res))\n",
    "\n",
    "res = search_by_salary()\n",
    "pprint(res)"
   ]
  },
  {
   "cell_type": "code",
   "execution_count": null,
   "id": "c7d841cd",
   "metadata": {},
   "outputs": [],
   "source": [
    "print('Количество найденных вакансий, удовлетворяющих условию задания:', len(list(res)))"
   ]
  }
 ],
 "metadata": {
  "kernelspec": {
   "display_name": "Python 3 (ipykernel)",
   "language": "python",
   "name": "python3"
  },
  "language_info": {
   "codemirror_mode": {
    "name": "ipython",
    "version": 3
   },
   "file_extension": ".py",
   "mimetype": "text/x-python",
   "name": "python",
   "nbconvert_exporter": "python",
   "pygments_lexer": "ipython3",
   "version": "3.9.12"
  }
 },
 "nbformat": 4,
 "nbformat_minor": 5
}
