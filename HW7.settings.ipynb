{
 "cells": [
  {
   "cell_type": "code",
   "execution_count": 1,
   "id": "9f9bf1b9",
   "metadata": {},
   "outputs": [],
   "source": [
    "BOT_NAME = 'goodparser'\n",
    "\n",
    "SPIDER_MODULES = ['goodparser.spiders']\n",
    "NEWSPIDER_MODULE = 'goodparser.spiders'\n",
    "\n",
    "LOG_ENABLED = True\n",
    "LOG_LEVEL = 'DEBUG'\n",
    "IMAGES_STORE = 'photos'\n",
    "\n",
    "USER_AGENT = 'Mozilla/5.0 (Windows NT 10.0; Win64; x64) AppleWebKit/537.36 (KHTML, like Gecko)\\\n",
    "                Chrome/98.0.4758.82 Safari/537.36'\n",
    "\n",
    "ROBOTSTXT_OBEY = False\n",
    "\n",
    "CONCURRENT_REQUESTS = 16\n",
    "\n",
    "\n",
    "DOWNLOAD_DELAY = 0.5\n",
    "\n",
    "COOKIES_ENABLED = True\n",
    "\n",
    "ITEM_PIPELINES = {\n",
    "   'goodparser.pipelines.GoodparserPipeline': 300,\n",
    "   'goodparser.pipelines.GoodImagesPipeline': 200,\n",
    "}\n"
   ]
  }
 ],
 "metadata": {
  "kernelspec": {
   "display_name": "Python 3 (ipykernel)",
   "language": "python",
   "name": "python3"
  },
  "language_info": {
   "codemirror_mode": {
    "name": "ipython",
    "version": 3
   },
   "file_extension": ".py",
   "mimetype": "text/x-python",
   "name": "python",
   "nbconvert_exporter": "python",
   "pygments_lexer": "ipython3",
   "version": "3.9.12"
  }
 },
 "nbformat": 4,
 "nbformat_minor": 5
}
