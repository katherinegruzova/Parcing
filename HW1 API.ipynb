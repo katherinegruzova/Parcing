{
 "cells": [
  {
   "cell_type": "markdown",
   "id": "e5bd3a55",
   "metadata": {},
   "source": [
    "1. Посмотреть документацию к API GitHub, разобраться как вывести список репозиториев для конкретного пользователя, сохранить JSON-вывод в файле *.json."
   ]
  },
  {
   "cell_type": "code",
   "execution_count": 5,
   "id": "01393285",
   "metadata": {},
   "outputs": [],
   "source": [
    "import requests\n",
    "from pprint import pprint\n",
    "import json"
   ]
  },
  {
   "cell_type": "code",
   "execution_count": 6,
   "id": "a42cf8f8",
   "metadata": {},
   "outputs": [
    {
     "name": "stdout",
     "output_type": "stream",
     "text": [
      "Введите username:kathykato\n"
     ]
    }
   ],
   "source": [
    "url = 'https://api.github.com'\n",
    "user = input('Введите username:')"
   ]
  },
  {
   "cell_type": "code",
   "execution_count": 7,
   "id": "fda7a0b1",
   "metadata": {},
   "outputs": [],
   "source": [
    "response = requests.get(f'{url}/users/{user}/repos')"
   ]
  },
  {
   "cell_type": "code",
   "execution_count": 8,
   "id": "d992af5d",
   "metadata": {},
   "outputs": [],
   "source": [
    "with open('1_1_repo.json', 'w') as f:\n",
    "    json.dump(response.json(), f)"
   ]
  },
  {
   "cell_type": "code",
   "execution_count": 9,
   "id": "a42c2d0c",
   "metadata": {},
   "outputs": [
    {
     "name": "stdout",
     "output_type": "stream",
     "text": [
      "12columns\n",
      "https://github.com/kathykato/12columns \n",
      "\n",
      "30days30sites\n",
      "https://github.com/kathykato/30days30sites \n",
      "\n",
      "accordion\n",
      "https://github.com/kathykato/accordion \n",
      "\n",
      "amazon-email-inline\n",
      "https://github.com/kathykato/amazon-email-inline \n",
      "\n",
      "breakout\n",
      "https://github.com/kathykato/breakout \n",
      "\n",
      "buttons\n",
      "https://github.com/kathykato/buttons \n",
      "\n",
      "catch-of-the-day\n",
      "https://github.com/kathykato/catch-of-the-day \n",
      "\n",
      "codevember\n",
      "https://github.com/kathykato/codevember \n",
      "\n",
      "cryptocurrency-comparison\n",
      "https://github.com/kathykato/cryptocurrency-comparison \n",
      "\n",
      "css-grid\n",
      "https://github.com/kathykato/css-grid \n",
      "\n",
      "css-test\n",
      "https://github.com/kathykato/css-test \n",
      "\n",
      "dragonball\n",
      "https://github.com/kathykato/dragonball \n",
      "\n",
      "flexbox\n",
      "https://github.com/kathykato/flexbox \n",
      "\n",
      "grid-layout\n",
      "https://github.com/kathykato/grid-layout \n",
      "\n",
      "hugo-test\n",
      "https://github.com/kathykato/hugo-test \n",
      "\n",
      "javascript30\n",
      "https://github.com/kathykato/javascript30 \n",
      "\n",
      "katherinekato.com\n",
      "https://github.com/kathykato/katherinekato.com \n",
      "\n",
      "lp-old\n",
      "https://github.com/kathykato/lp-old \n",
      "\n",
      "luckycat\n",
      "https://github.com/kathykato/luckycat \n",
      "\n",
      "nav\n",
      "https://github.com/kathykato/nav \n",
      "\n",
      "notification\n",
      "https://github.com/kathykato/notification \n",
      "\n",
      "npm-example\n",
      "https://github.com/kathykato/npm-example \n",
      "\n",
      "particles\n",
      "https://github.com/kathykato/particles \n",
      "\n",
      "portfolio-old\n",
      "https://github.com/kathykato/portfolio-old \n",
      "\n",
      "question-block\n",
      "https://github.com/kathykato/question-block \n",
      "\n",
      "react\n",
      "https://github.com/kathykato/react \n",
      "\n",
      "react-exercises\n",
      "https://github.com/kathykato/react-exercises \n",
      "\n",
      "reveal-effects\n",
      "https://github.com/kathykato/reveal-effects \n",
      "\n",
      "selfportrait\n",
      "https://github.com/kathykato/selfportrait \n",
      "\n",
      "stylestage\n",
      "https://github.com/kathykato/stylestage \n",
      "\n"
     ]
    }
   ],
   "source": [
    "for i in response.json():\n",
    "    print(i['name'])\n",
    "    print(i['svn_url'],\"\\n\")"
   ]
  },
  {
   "cell_type": "markdown",
   "id": "23c25ac0",
   "metadata": {},
   "source": [
    "2. Изучить список открытых API (https://www.programmableweb.com/category/all/apis). Найти среди них любое, требующее авторизацию (любого типа). Выполнить запросы к нему, пройдя авторизацию. Ответ сервера записать в файл.\n",
    "Если нет желания заморачиваться с поиском, возьмите API вконтакте (https://vk.com/dev/first_guide). Сделайте запрос, чтобы получить список всех сообществ на которые вы подписаны."
   ]
  },
  {
   "cell_type": "code",
   "execution_count": 31,
   "id": "5d90f098",
   "metadata": {},
   "outputs": [],
   "source": [
    "url = 'https://api.openweathermap.org/data/2.5/weather'"
   ]
  },
  {
   "cell_type": "code",
   "execution_count": 33,
   "id": "27c1e05c",
   "metadata": {},
   "outputs": [],
   "source": [
    "params = {\n",
    "            'lang' : 'ru',\n",
    "            'q' : 'Saint Petersburg',\n",
    "            'units' : 'metric',\n",
    "            'appid':'bceecb6fbb910b5c25d970e277ed20f2'\n",
    "}"
   ]
  },
  {
   "cell_type": "code",
   "execution_count": 34,
   "id": "0ec50a1e",
   "metadata": {},
   "outputs": [
    {
     "name": "stdout",
     "output_type": "stream",
     "text": [
      "{'base': 'stations',\n",
      " 'clouds': {'all': 100},\n",
      " 'cod': 200,\n",
      " 'coord': {'lat': 59.8944, 'lon': 30.2642},\n",
      " 'dt': 1676745891,\n",
      " 'id': 498817,\n",
      " 'main': {'feels_like': -10.35,\n",
      "          'humidity': 82,\n",
      "          'pressure': 989,\n",
      "          'temp': -3.86,\n",
      "          'temp_max': -2.92,\n",
      "          'temp_min': -3.86},\n",
      " 'name': 'Санкт-Петербург',\n",
      " 'sys': {'country': 'RU',\n",
      "         'id': 197864,\n",
      "         'sunrise': 1676698205,\n",
      "         'sunset': 1676732162,\n",
      "         'type': 2},\n",
      " 'timezone': 10800,\n",
      " 'visibility': 9000,\n",
      " 'weather': [{'description': 'пасмурно',\n",
      "              'icon': '04n',\n",
      "              'id': 804,\n",
      "              'main': 'Clouds'}],\n",
      " 'wind': {'deg': 130, 'speed': 6}}\n"
     ]
    }
   ],
   "source": [
    "response = requests.get(url=url,params=params)\n",
    "pprint(response.json())"
   ]
  },
  {
   "cell_type": "code",
   "execution_count": 35,
   "id": "a5136d0d",
   "metadata": {},
   "outputs": [],
   "source": [
    "with open('1_2_repo.json', 'w') as f:\n",
    "    json.dump(response.json(), f)"
   ]
  }
 ],
 "metadata": {
  "kernelspec": {
   "display_name": "Python 3 (ipykernel)",
   "language": "python",
   "name": "python3"
  },
  "language_info": {
   "codemirror_mode": {
    "name": "ipython",
    "version": 3
   },
   "file_extension": ".py",
   "mimetype": "text/x-python",
   "name": "python",
   "nbconvert_exporter": "python",
   "pygments_lexer": "ipython3",
   "version": "3.9.12"
  }
 },
 "nbformat": 4,
 "nbformat_minor": 5
}
