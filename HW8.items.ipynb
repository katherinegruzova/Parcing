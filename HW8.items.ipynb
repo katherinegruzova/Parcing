{
 "cells": [
  {
   "cell_type": "code",
   "execution_count": null,
   "id": "898deca4",
   "metadata": {},
   "outputs": [],
   "source": [
    "import scrapy\n",
    "\n",
    "\n",
    "class InstaparserItem(scrapy.Item):\n",
    "    # define the fields for your item here like:\n",
    "    user_id = scrapy.Field()\n",
    "    username = scrapy.Field()\n",
    "    photo = scrapy.Field()\n",
    "    likes = scrapy.Field()\n",
    "    post_data = scrapy.Field()\n",
    "    _id = scrapy.Field()\n"
   ]
  }
 ],
 "metadata": {
  "kernelspec": {
   "display_name": "Python 3 (ipykernel)",
   "language": "python",
   "name": "python3"
  },
  "language_info": {
   "codemirror_mode": {
    "name": "ipython",
    "version": 3
   },
   "file_extension": ".py",
   "mimetype": "text/x-python",
   "name": "python",
   "nbconvert_exporter": "python",
   "pygments_lexer": "ipython3",
   "version": "3.9.12"
  }
 },
 "nbformat": 4,
 "nbformat_minor": 5
}
