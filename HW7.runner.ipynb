{
 "cells": [
  {
   "cell_type": "code",
   "execution_count": null,
   "id": "2efc9583",
   "metadata": {},
   "outputs": [],
   "source": [
    "class LeroymerlinruSpider(scrapy.Spider):\n",
    "    name = 'leroymerlinru'\n",
    "    allowed_domains = ['leroymerlin.ru']\n",
    "\n",
    "    def __init__(self, **kwargs):\n",
    "        super().__init__(**kwargs)\n",
    "        self.start_urls = [f'https://leroymerlin.ru/search/?q={kwargs.get(\"search\")}']\n",
    "\n",
    "    def parse(self, response: HtmlResponse):\n",
    "        links = response.xpath('//a[@data-qa=\"product-name\"]')\n",
    "        for link in links:\n",
    "            yield response.follow(link, callback=self.good_parse)\n",
    "        next_page = response.xpath('//a[@data-qa-pagination-item=\"right\"]/@href').get()\n",
    "        while next_page:\n",
    "            yield response.follow(next_page, callback=self.parse)\n",
    "\n",
    "    def good_parse(self, response: HtmlResponse):\n",
    "        loader = ItemLoader(item=GoodparserItem(), response=response)\n",
    "        loader.add_xpath('name', '//h1/text()')\n",
    "        loader.add_value('link', response.url)\n",
    "        loader.add_xpath('price', '//span[@slot=\"price\"]/text()')\n",
    "        loader.add_xpath('photos', '//source[@media=\" only screen and (min-width: 1024px)\"]/@srcset')\n",
    "        loader.add_xpath('ch_key', '//dt/text()')\n",
    "        loader.add_xpath('ch_value', '//dd/text()')\n",
    "        yield loader.load_item()"
   ]
  }
 ],
 "metadata": {
  "kernelspec": {
   "display_name": "Python 3 (ipykernel)",
   "language": "python",
   "name": "python3"
  },
  "language_info": {
   "codemirror_mode": {
    "name": "ipython",
    "version": 3
   },
   "file_extension": ".py",
   "mimetype": "text/x-python",
   "name": "python",
   "nbconvert_exporter": "python",
   "pygments_lexer": "ipython3",
   "version": "3.9.12"
  }
 },
 "nbformat": 4,
 "nbformat_minor": 5
}
