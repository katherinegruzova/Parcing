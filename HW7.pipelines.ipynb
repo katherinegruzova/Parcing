{
 "cells": [
  {
   "cell_type": "code",
   "execution_count": 2,
   "id": "f9b364aa",
   "metadata": {},
   "outputs": [],
   "source": [
    "from itemadapter import ItemAdapter\n",
    "from scrapy.pipelines.images import ImagesPipeline\n",
    "import scrapy\n",
    "from pymongo import MongoClient\n",
    "from pymongo.errors import DuplicateKeyError\n",
    "\n",
    "\n",
    "class GoodparserPipeline:\n",
    "    def __init__(self):\n",
    "        client = MongoClient('localhost', 27017)\n",
    "        self.mongobase = client.goods\n",
    "\n",
    "    def process_item(self, item, spider):\n",
    "        item['characteristics'] = dict(zip(item['ch_key'], item['ch_value']))\n",
    "        del item['ch_key']\n",
    "        del item['ch_value']\n",
    "        item['_id'] = item['link'].split('/')[-2].split('-')[-1]\n",
    "        good = self.mongobase[spider.name]\n",
    "        try:\n",
    "            good.insert_one(item)\n",
    "        except DuplicateKeyError:\n",
    "            pass\n",
    "        return item\n",
    "\n",
    "\n",
    "class GoodImagesPipeline(ImagesPipeline):\n",
    "    def get_media_requests(self, item, info):\n",
    "        if item['photos']:\n",
    "            for img in item['photos']:\n",
    "                try:\n",
    "                    yield scrapy.Request(img)\n",
    "                except Exception as e:\n",
    "                    print(e)\n",
    "\n",
    "    def item_completed(self, results, item, info):\n",
    "        item['photos'] = [itm[1] for itm in results if itm[0]]\n",
    "        return item\n",
    "\n",
    "    def file_path(self, request, response=None, info=None, *, item=None):\n",
    "        uid = item['link'].split('/')[-2].split('-')[-1]\n",
    "        return f\"{uid} {item['name']}/{item['photos'].index(request.url)}.jpg\""
   ]
  },
  {
   "cell_type": "code",
   "execution_count": null,
   "id": "5c684043",
   "metadata": {},
   "outputs": [],
   "source": []
  }
 ],
 "metadata": {
  "kernelspec": {
   "display_name": "Python 3 (ipykernel)",
   "language": "python",
   "name": "python3"
  },
  "language_info": {
   "codemirror_mode": {
    "name": "ipython",
    "version": 3
   },
   "file_extension": ".py",
   "mimetype": "text/x-python",
   "name": "python",
   "nbconvert_exporter": "python",
   "pygments_lexer": "ipython3",
   "version": "3.9.12"
  }
 },
 "nbformat": 4,
 "nbformat_minor": 5
}
