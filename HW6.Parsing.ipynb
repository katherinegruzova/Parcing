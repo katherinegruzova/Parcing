{
 "cells": [
  {
   "cell_type": "markdown",
   "id": "3af45769",
   "metadata": {},
   "source": [
    "Урок 6. Фреймворк Scrapy, pipelines, Splash\n",
    "II вариант\n",
    "1) Создать пауков по сбору данных о книгах с сайтов labirint.ru и/или book24.ru\n",
    "2) Каждый паук должен собирать:\n",
    "* Ссылку на книгу\n",
    "* Наименование книги\n",
    "* Автор(ы)\n",
    "* Основную цену\n",
    "* Цену со скидкой\n",
    "* Рейтинг книги\n",
    "3) Собранная информация должна складываться в базу данных"
   ]
  },
  {
   "cell_type": "code",
   "execution_count": null,
   "id": "4b431f8b",
   "metadata": {},
   "outputs": [],
   "source": [
    "import scrapy\n",
    "from scrapy.http import HtmlResponse\n",
    "from bookparser.items import BookparserItem"
   ]
  },
  {
   "cell_type": "code",
   "execution_count": null,
   "id": "2ceea15d",
   "metadata": {},
   "outputs": [],
   "source": [
    "class Book24ruSpider(scrapy.Spider):\n",
    "    page = 1\n",
    "    name = 'book24ru'\n",
    "    allowed_domains = ['book24.ru']\n",
    "    start_urls = [f'https://book24.ru/search/page-{page}/?q=программирование']\n",
    "\n",
    "    def parse(self, response: HtmlResponse):\n",
    "        if response.status != 404:\n",
    "            links = response.xpath(\"//div[contains(@class, 'catalog__product-list-holder')]//\\\n",
    "                                            a[contains(@class, 'product-card__name')]/@href\").getall()\n",
    "            for link in links:\n",
    "                yield response.follow(link, callback=self.book_parse)\n",
    "            self.page += 1\n",
    "            next_page = f'https://book24.ru/search/page-{self.page}/?q=программирование'\n",
    "            yield response.follow(next_page, callback=self.parse)\n",
    "\n",
    "    def book_parse(self, response: HtmlResponse):\n",
    "        link = response.url\n",
    "        name = response.xpath('//h1/text()').get().replace('\\n', '')\n",
    "        author = response.xpath(\"//div[contains(@class, 'product-characteristic__value')]//text()\").get()\n",
    "        if response.xpath(\"//span[contains(@class, 'product-sidebar-price__price-old')]\\\n",
    "                                                                /text()\").get() is not None:\n",
    "            main_price = response.xpath(\"//span[contains(@class, 'product-sidebar-price__price-old')]\\\n",
    "                                                                            /text()\")[0].get()\n",
    "            sail_price = response.xpath(\"//span[contains(@class, 'product-sidebar-price__price')]\\\n",
    "                                                                            /text()\")[1].get()\n",
    "        else:\n",
    "            main_price = response.xpath(\"//span[contains(@class, 'product-sidebar-price__price')]\\\n",
    "                                                                            /text()\").get()\n",
    "            sail_price = None\n",
    "        rating = response.xpath(\"//span[@class='rating-widget__main-text']/text()\").get()\n",
    "        yield BookparserItem(link=link, name=name, author=author, main_price=main_price,\n",
    "                             sail_price=sail_price, rating=rating)"
   ]
  }
 ],
 "metadata": {
  "kernelspec": {
   "display_name": "Python 3 (ipykernel)",
   "language": "python",
   "name": "python3"
  },
  "language_info": {
   "codemirror_mode": {
    "name": "ipython",
    "version": 3
   },
   "file_extension": ".py",
   "mimetype": "text/x-python",
   "name": "python",
   "nbconvert_exporter": "python",
   "pygments_lexer": "ipython3",
   "version": "3.9.12"
  }
 },
 "nbformat": 4,
 "nbformat_minor": 5
}
