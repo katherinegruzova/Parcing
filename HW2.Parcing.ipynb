{
 "cells": [
  {
   "cell_type": "markdown",
   "id": "858d3932",
   "metadata": {},
   "source": [
    "Урок 2. Парсинг данных. HTML, DOM, XPath\n",
    "Написать приложение и функцию, которые собирают основные новости с сайта на выбор dzen.ru, lenta.ru, mail.ru . Для парсинга использовать XPath\n",
    "Структура данных должна содержать:\n",
    "* название источника\n",
    "* наименование новости\n",
    "* ссылку на новость\n",
    "* дата публикации"
   ]
  },
  {
   "cell_type": "code",
   "execution_count": 4,
   "id": "2c33d697",
   "metadata": {},
   "outputs": [],
   "source": [
    "import requests\n",
    "from pprint import pprint\n",
    "from lxml import html"
   ]
  },
  {
   "cell_type": "code",
   "execution_count": 5,
   "id": "d8ccf43f",
   "metadata": {},
   "outputs": [],
   "source": [
    "url = 'https://lenta.ru/'\n",
    "headers = {'User-Agent': 'Mozilla/5.0 (Windows NT 10.0; Win64; x64) \\\n",
    "          AppleWebKit/537.36 (KHTML, like Gecko) Chrome/104.0.0.0 Safari/537.36'}"
   ]
  },
  {
   "cell_type": "code",
   "execution_count": 6,
   "id": "e72670eb",
   "metadata": {},
   "outputs": [],
   "source": [
    "R = requests.get(url = url, headers=headers)"
   ]
  },
  {
   "cell_type": "code",
   "execution_count": 7,
   "id": "f0d4f318",
   "metadata": {},
   "outputs": [
    {
     "name": "stdout",
     "output_type": "stream",
     "text": [
      "<Element a at 0x2345680c0e0>\n",
      "<Element a at 0x2345680c9a0>\n",
      "<Element a at 0x2345680c9f0>\n",
      "<Element a at 0x234583b5810>\n",
      "<Element a at 0x23454af28b0>\n",
      "<Element a at 0x23454af2900>\n",
      "<Element a at 0x23454af29a0>\n"
     ]
    }
   ],
   "source": [
    "dom = html.fromstring(R.text)\n",
    "list_main_news = dom.xpath(\"//section/div/div/a[@class='card-mini _compact']\")\n",
    "print(*list_main_news, sep = '\\n')"
   ]
  },
  {
   "cell_type": "code",
   "execution_count": 8,
   "id": "49fda082",
   "metadata": {},
   "outputs": [
    {
     "name": "stdout",
     "output_type": "stream",
     "text": [
      "Стало известно о расколе между Германией и Польшей по Украине - {'источник': 'Lenta.ru - Новости России и мира сегодня', 'ссылка': 'https://lenta.ru//news/2023/03/05/germanyukrainepoland/', 'дата': '2023/03/05'}\n",
      "Антарктида потеряла рекордные объемы льда - {'источник': 'Lenta.ru - Новости России и мира сегодня', 'ссылка': 'https://lenta.ru//news/2023/03/05/pobres_pinguinos/', 'дата': '2023/03/05'}\n",
      "Трамп вновь пообещал разрешить конфликт на Украине за сутки - {'источник': 'Lenta.ru - Новости России и мира сегодня', 'ссылка': 'https://lenta.ru//news/2023/03/05/trump_sutki/', 'дата': '2023/03/05'}\n",
      "В Британии посоветовали главе Еврокомиссии утопиться после слов о России - {'источник': 'Lenta.ru - Новости России и мира сегодня', 'ссылка': 'https://lenta.ru//news/2023/03/05/ursula/', 'дата': '2023/03/05'}\n",
      "Россиянам назвали 11 стран для будущих безвизовых поездок - {'источник': 'Lenta.ru - Новости России и мира сегодня', 'ссылка': 'https://lenta.ru//news/2023/03/05/no_visa/', 'дата': '2023/03/05'}\n",
      "На Украине призвали Зеленского уйти в отставку - {'источник': 'Lenta.ru - Новости России и мира сегодня', 'ссылка': 'https://lenta.ru//news/2023/03/04/resign/', 'дата': '2023/03/04'}\n",
      "Пригожин объяснил невозможность окончания СВО «здесь и сейчас» - {'источник': 'Lenta.ru - Новости России и мира сегодня', 'ссылка': 'https://lenta.ru//news/2023/03/04/red_red/', 'дата': '2023/03/04'}\n"
     ]
    }
   ],
   "source": [
    "dict_main_news = {}\n",
    "\n",
    "for i in list_main_news:\n",
    "  news_source = dom.xpath(\"//head/title/text()\")[0]\n",
    "  news_name = i.xpath(\".//span/text()\")[0]\n",
    "  news_link = url + i.xpath(\".//@href\")[0] \n",
    "  news_date = (i.xpath(\".//@href\")[0])[6:16] \n",
    "  dict_main_news[news_name] = {\n",
    "      'источник' : news_source,\n",
    "      'ссылка': news_link,\n",
    "      'дата': news_date,\n",
    "  }\n",
    "for key in dict_main_news.keys():\n",
    "  print(f'{key} - {dict_main_news[key]}')  "
   ]
  },
  {
   "cell_type": "code",
   "execution_count": null,
   "id": "30d2745f",
   "metadata": {},
   "outputs": [],
   "source": []
  }
 ],
 "metadata": {
  "kernelspec": {
   "display_name": "Python 3 (ipykernel)",
   "language": "python",
   "name": "python3"
  },
  "language_info": {
   "codemirror_mode": {
    "name": "ipython",
    "version": 3
   },
   "file_extension": ".py",
   "mimetype": "text/x-python",
   "name": "python",
   "nbconvert_exporter": "python",
   "pygments_lexer": "ipython3",
   "version": "3.9.12"
  }
 },
 "nbformat": 4,
 "nbformat_minor": 5
}
